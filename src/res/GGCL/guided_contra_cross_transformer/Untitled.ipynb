{
 "cells": [
  {
   "cell_type": "code",
   "execution_count": 1,
   "id": "d8bcc288-9b96-4d37-9ff7-b5231a3c1c9b",
   "metadata": {},
   "outputs": [],
   "source": [
    "import json\n",
    "import os\n",
    "import statistics"
   ]
  },
  {
   "cell_type": "code",
   "execution_count": 2,
   "id": "b3b5733b-42ec-455a-a1ec-ada39ec912ce",
   "metadata": {},
   "outputs": [
    {
     "name": "stdout",
     "output_type": "stream",
     "text": [
      "[97.19319981441787, 97.02653876359791]\n",
      "97.10986928900789\n",
      "0.01388795293020564\n"
     ]
    }
   ],
   "source": [
    "file_path = './HongHu/40/True/ss0.3'\n",
    "json_files = []\n",
    "max_oa = []\n",
    "for file_name in os.listdir(file_path):\n",
    "    if file_name.endswith('.json'):\n",
    "        json_files.append(file_name)\n",
    "# print(json_files)\n",
    "for file_name in json_files:\n",
    "    data_path = os.path.join(file_path, file_name)\n",
    "    with open(data_path, 'r') as file:\n",
    "        data = json.load(file)\n",
    "        oa = max(data['train_oa']['value'])\n",
    "        max_oa.append(oa)\n",
    "mean = sum(max_oa[:5])/len(max_oa[:5])\n",
    "print(max_oa[:5])\n",
    "print(mean)\n",
    "print(statistics.variance(max_oa[:5]))"
   ]
  },
  {
   "cell_type": "code",
   "execution_count": null,
   "id": "1ece8c6a-7370-4046-93f1-8b7dc8157f44",
   "metadata": {},
   "outputs": [],
   "source": []
  }
 ],
 "metadata": {
  "kernelspec": {
   "display_name": "Python 3 (ipykernel)",
   "language": "python",
   "name": "python3"
  },
  "language_info": {
   "codemirror_mode": {
    "name": "ipython",
    "version": 3
   },
   "file_extension": ".py",
   "mimetype": "text/x-python",
   "name": "python",
   "nbconvert_exporter": "python",
   "pygments_lexer": "ipython3",
   "version": "3.9.13"
  }
 },
 "nbformat": 4,
 "nbformat_minor": 5
}
